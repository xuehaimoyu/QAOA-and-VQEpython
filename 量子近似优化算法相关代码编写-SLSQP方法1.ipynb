{
 "cells": [
  {
   "cell_type": "code",
   "execution_count": 11,
   "id": "48a6ead3",
   "metadata": {},
   "outputs": [],
   "source": [
    "import numpy as np\n",
    "from qiskit import QuantumCircuit, transpile\n",
    "from qiskit.providers.aer import QasmSimulator\n",
    "from qiskit.visualization import plot_histogram\n",
    "from qiskit.quantum_info.operators import Operator, Pauli\n",
    "import networkx as nx\n",
    "from qiskit import Aer\n",
    "import time\n",
    "import warnings\n",
    "import scipy\n",
    "warnings.filterwarnings(\"ignore\")\n",
    "Z = Pauli('Z')\n",
    "Z=Operator(Z)\n",
    "I=Pauli('I')\n",
    "I=Operator(I)"
   ]
  },
  {
   "cell_type": "markdown",
   "id": "7ac5547d",
   "metadata": {},
   "source": [
    "# 自动随机生成网格及相应边长\n",
    "使用networkx作为研究工具\n",
    "\n",
    "生成方法，给定节点数，每两个节点有一定概率相互连接，若连接，就自动生成一个边长\n"
   ]
  },
  {
   "cell_type": "code",
   "execution_count": 12,
   "id": "34899e57",
   "metadata": {},
   "outputs": [],
   "source": [
    "def random():\n",
    "    weight=np.random.random()\n",
    "    return weight\n",
    "def origin_generator(n):\n",
    "    G=nx.Graph()\n",
    "    for i in range(0,n):\n",
    "        G.add_node(i)\n",
    "    for i in range(0,n):\n",
    "        for j in range(i+1,n):\n",
    "            if random()>0.4:\n",
    "                a=random()\n",
    "                #print(a)\n",
    "                G.add_edge(i,j,length=a)\n",
    "            else:\n",
    "                continue\n",
    "    return G\n",
    "def draw(G):\n",
    "    nx.draw(G, with_labels=True, node_color='b')"
   ]
  },
  {
   "cell_type": "markdown",
   "id": "79de00cd",
   "metadata": {},
   "source": [
    "# 自动构建量子线路\n",
    "qiskit"
   ]
  },
  {
   "cell_type": "code",
   "execution_count": 13,
   "id": "471bdf29",
   "metadata": {},
   "outputs": [],
   "source": [
    "def QAOA_circuit(n,beta,gamma,p,EVdata):\n",
    "    cir = QuantumCircuit(n)\n",
    "    for i in range(0,n):\n",
    "            cir.h(i)\n",
    "    for j in range(0,p):        \n",
    "        for qi,qj,k in EVdata:\n",
    "            cir.cx(qi,qj)\n",
    "            cir.rz(2*gamma[j]*k,qj)\n",
    "            cir.cx(qi,qj)\n",
    "        for i in range(0,n):\n",
    "            cir.rx(2*beta[j],i)    \n",
    "    cir.measure_all()\n",
    "    return cir\n",
    "    \n",
    "    "
   ]
  },
  {
   "cell_type": "code",
   "execution_count": 14,
   "id": "0e491e87",
   "metadata": {},
   "outputs": [],
   "source": [
    "def const_origin(p):#这个没有用上\n",
    "    origin=[]\n",
    "    for i in range(0,p):\n",
    "        origin.append(random())\n",
    "        origin.append(random())\n",
    "    return origin    "
   ]
  },
  {
   "cell_type": "code",
   "execution_count": 15,
   "id": "5744c2d1",
   "metadata": {},
   "outputs": [],
   "source": [
    "def simi_result(circuit):#进行实验测量\n",
    "    simulator = QasmSimulator()\n",
    "    compiled_circuit = transpile(circuit, simulator)\n",
    "    job = simulator.run(compiled_circuit, shots=500)\n",
    "    result = job.result()\n",
    "    counts = result.get_counts(compiled_circuit)\n",
    "    return counts\n",
    "    \n",
    "    "
   ]
  },
  {
   "cell_type": "code",
   "execution_count": 16,
   "id": "7a4b7e40",
   "metadata": {},
   "outputs": [],
   "source": [
    "def EVcut(EVdata):#图数据转换为处理的问题，量子比特与边长\n",
    "    first=[]\n",
    "    second=[]\n",
    "    length=[]\n",
    "    for i,j,k in EVdata:\n",
    "        first.append(i)\n",
    "        second.append(j)\n",
    "        length.append(k)\n",
    "    return first,second,length\n",
    "        "
   ]
  },
  {
   "cell_type": "code",
   "execution_count": 17,
   "id": "5bc4b9e3",
   "metadata": {},
   "outputs": [],
   "source": [
    "def classic(n,EVdata):\n",
    "    group=[]\n",
    "    v=2**n\n",
    "    for i in range(0,v):\n",
    "        str1=str(bin(i))\n",
    "        str2=str1.lstrip('0b')\n",
    "        str3=str2.rjust(n,'0')\n",
    "        group.append(str3)\n",
    "    value=classic_expectations(EVdata)\n",
    "    indexmax=value.index(max(value))\n",
    "    #print(group)\n",
    "    #print('true_result',group[indexmax])\n",
    "    #print(max(value))\n",
    "    return max(value)\n",
    "def classic_expectations(EVdata):\n",
    "    v=2**n\n",
    "    group=[]\n",
    "    for i in range(0,v):\n",
    "        str1=str(bin(i))\n",
    "        str2=str1.lstrip('0b')\n",
    "        str3=str2.rjust(n,'0')\n",
    "        group.append(str3)\n",
    "    total=0\n",
    "    total1=[]\n",
    "    first,second,length=EVcut(EVdata)\n",
    "    for j in range(0,len(group)):\n",
    "        for i in range(0,len(first)):\n",
    "            if group[j][first[i]]!=group[j][second[i]]:\n",
    "                temp=length[i]\n",
    "                total=total+temp\n",
    "                #print(\"yeah\")\n",
    "            else:\n",
    "                temp=0\n",
    "                total=total+temp\n",
    "        total1.append(total)\n",
    "        total=0\n",
    "    return total1"
   ]
  },
  {
   "cell_type": "code",
   "execution_count": 18,
   "id": "e2be0adb",
   "metadata": {},
   "outputs": [],
   "source": [
    "def expectations(EVdata,counts):#求取期望\n",
    "    group=list(counts.keys())\n",
    "    values=list(counts.values())\n",
    "    indexmax=values.index(max(values))\n",
    "    maxnum=group[indexmax]\n",
    "    total=0\n",
    "    first,second,length=EVcut(EVdata)\n",
    "    for i in range(0,len(first)):\n",
    "        if maxnum[first[i]]!=maxnum[second[i]]:\n",
    "            temp=length[i]\n",
    "            total=total+temp\n",
    "            #print(\"yeah\")\n",
    "        else:\n",
    "            temp=0\n",
    "            total=total+temp\n",
    "    return total\n",
    "def maxget(EVdata,counts):\n",
    "    group=list(counts.keys())\n",
    "    values=list(counts.values())\n",
    "    first,second,length=EVcut(EVdata)\n",
    "    indexmax=values.index(max(values))\n",
    "    maxnum=group[indexmax]\n",
    "    total=0\n",
    "    for i in range(0,len(first)):\n",
    "        if maxnum[first[i]]!=maxnum[second[i]]:\n",
    "            temp=length[i]\n",
    "            total=total+temp\n",
    "            #print(\"yeah\")\n",
    "        else:\n",
    "            temp=0\n",
    "            total=total+temp\n",
    "    #print(\"最大分割\",maxnum)\n",
    "    #print(\"最大分割值\",total)\n",
    "    return total"
   ]
  },
  {
   "cell_type": "markdown",
   "id": "dce75a16",
   "metadata": {},
   "source": [
    "# 算法实现\n",
    "这里使用的是贝叶斯优化器来进行调参，随着步数p的深入，自动生成对应参数数量的优化器\n",
    "\n",
    "无梯度优化"
   ]
  },
  {
   "cell_type": "code",
   "execution_count": 19,
   "id": "1675b805",
   "metadata": {},
   "outputs": [],
   "source": [
    "def optifun(x):\n",
    "    x=list(x)\n",
    "    beta=[]\n",
    "    gamma=[]\n",
    "    for i in range(0,p):\n",
    "        beta.append(x[i])\n",
    "    for j in range(0,p):\n",
    "        gamma.append(x[j+p])\n",
    "    cir=QAOA_circuit(n,beta,gamma,p,EVdata)\n",
    "    counts=simi_result(cir)\n",
    "    exp=expectations(EVdata,counts)\n",
    "    return -exp    \n",
    "#def optimiaztion(): "
   ]
  },
  {
   "cell_type": "code",
   "execution_count": 20,
   "id": "c39adb34",
   "metadata": {},
   "outputs": [],
   "source": [
    "def bounds(p):\n",
    "    a=(0,np.pi)\n",
    "    b=(0,np.pi)\n",
    "    bnd=[]\n",
    "    for i in range(0,p):\n",
    "        bnd.append(a)\n",
    "    for j in range(0,p):\n",
    "        bnd.append(b)\n",
    "    bnd=tuple(bnd)\n",
    "    return bnd\n",
    "def main(n,p):\n",
    "    x0=np.array(const_origin(p))\n",
    "    bnd=bounds(p)\n",
    "    result=scipy.optimize.minimize(optifun,x0,method='SLSQP',bounds=bnd)\n",
    "    #print(result)\n",
    "    #print(result.x)\n",
    "    pa=list(result.x)\n",
    "    beta=[]\n",
    "    gamma=[]\n",
    "    for i in range(0,p):\n",
    "        beta.append(pa[i])\n",
    "    #print(beta)\n",
    "    for j in range(0,p):\n",
    "        gamma.append(pa[j+p])\n",
    "    #print(gamma)\n",
    "    cirfinal=QAOA_circuit(n,beta,gamma,p,EVdata)\n",
    "    counts=simi_result(cirfinal)\n",
    "    #print(counts)\n",
    "    a=maxget(EVdata,counts)\n",
    "    return a,counts\n",
    "    "
   ]
  },
  {
   "cell_type": "markdown",
   "id": "fa27e13e",
   "metadata": {},
   "source": [
    "# 结果输出"
   ]
  },
  {
   "cell_type": "code",
   "execution_count": 21,
   "id": "3d79dd7d",
   "metadata": {},
   "outputs": [
    {
     "name": "stdout",
     "output_type": "stream",
     "text": [
      "问题\n",
      "节点 0 3 长度 0.33238469215144806\n",
      "节点 1 2 长度 0.7791155161890143\n",
      "节点 1 3 长度 0.9003987325496393\n",
      "节点 2 3 长度 0.16055436220400476\n"
     ]
    },
    {
     "data": {
      "image/png": "[encoded data removed]",
      "text/plain": [
       "<Figure size 640x480 with 1 Axes>"
      ]
     },
     "metadata": {},
     "output_type": "display_data"
    }
   ],
   "source": [
    "n=4\n",
    "p=1\n",
    "G=origin_generator(n)\n",
    "draw(G)\n",
    "EVdata = G.edges(data=\"length\")\n",
    "print(\"问题\")\n",
    "for i,j,k in EVdata:\n",
    "    print(\"节点\",i,j,\"长度\",k)"
   ]
  },
  {
   "cell_type": "markdown",
   "id": "f8afc92c",
   "metadata": {},
   "source": [
    "# 经典"
   ]
  },
  {
   "cell_type": "code",
   "execution_count": null,
   "id": "6c2cc0e4",
   "metadata": {},
   "outputs": [],
   "source": []
  },
  {
   "cell_type": "code",
   "execution_count": 22,
   "id": "e1ffd12d",
   "metadata": {},
   "outputs": [
    {
     "data": {
      "text/plain": [
       "2.011898940890102"
      ]
     },
     "execution_count": 22,
     "metadata": {},
     "output_type": "execute_result"
    }
   ],
   "source": [
    "classic(n,EVdata)"
   ]
  },
  {
   "cell_type": "code",
   "execution_count": 23,
   "id": "ea94705f",
   "metadata": {},
   "outputs": [
    {
     "name": "stdout",
     "output_type": "stream",
     "text": [
      "0\n"
     ]
    }
   ],
   "source": [
    "re,counts=main(n,p)\n",
    "print(re)"
   ]
  },
  {
   "cell_type": "code",
   "execution_count": null,
   "id": "02c2e818",
   "metadata": {},
   "outputs": [],
   "source": []
  },
  {
   "cell_type": "code",
   "execution_count": 26,
   "id": "122a4b2f",
   "metadata": {},
   "outputs": [],
   "source": [
    "def aqtest(a,b):\n",
    "    global n\n",
    "    global p\n",
    "    n=a\n",
    "    p=b    \n",
    "    count=0\n",
    "    for i in range(0,100):\n",
    "        #print(\"当前进度\",i)\n",
    "        G=origin_generator(n)\n",
    "        global EVdata\n",
    "        EVdata = G.edges(data=\"length\")\n",
    "        max1=classic(n,EVdata)\n",
    "        max2,counts=main(n,p)\n",
    "        #print(max1,max2)\n",
    "        if max1==max2:\n",
    "            count=count+1\n",
    "    print(\"FINAL ACCURACY\",count)\n",
    "    return count "
   ]
  },
  {
   "cell_type": "code",
   "execution_count": 27,
   "id": "899c7029",
   "metadata": {},
   "outputs": [
    {
     "name": "stdout",
     "output_type": "stream",
     "text": [
      "1\n",
      "FINAL ACCURACY 13\n",
      "2\n",
      "FINAL ACCURACY 13\n",
      "3\n",
      "FINAL ACCURACY 13\n",
      "4\n",
      "FINAL ACCURACY 15\n",
      "5\n",
      "FINAL ACCURACY 17\n"
     ]
    }
   ],
   "source": [
    "list1=[]\n",
    "for nn in range(1,6):\n",
    "    print(nn)\n",
    "    count=aqtest(4,nn)\n",
    "    list1.append(count)"
   ]
  },
  {
   "cell_type": "code",
   "execution_count": 22,
   "id": "ef52f35a",
   "metadata": {},
   "outputs": [
    {
     "name": "stdout",
     "output_type": "stream",
     "text": [
      "1.2506197338352663 0.33297583938576736\n",
      "2.317408318180541 1.7902252868602209\n",
      "1.6384831371955817 1.6384831371955817\n",
      "1.573848224428581 0\n",
      "2.083316090884074 0\n",
      "1.7718469211818948 0\n",
      "1.6233565816064215 0\n",
      "1.8894104866229318 1.8894104866229318\n",
      "2.8621409668848967 0\n",
      "2.076802719580197 1.432354259671976\n",
      "0.9005959332101392 0.9005959332101392\n",
      "1.9704628477588377 0\n",
      "2.059660470707114 0\n",
      "2.259807545143242 0\n",
      "0.8276899362595125 0\n",
      "2.457537843710295 0\n",
      "1.8266042830093139 1.7945368173272525\n",
      "0.8091000832808722 0\n",
      "2.3198184871642273 0\n",
      "1.9970445199640463 1.7438288523260692\n",
      "1.7327106228779678 0\n",
      "2.0000109833389064 0\n",
      "1.9460463460723725 0\n",
      "1.8225647963290812 0\n",
      "2.0852718658573766 0\n",
      "2.343666116181486 0\n",
      "0.42520443827547716 0.2399492678849634\n",
      "1.3625955442044975 1.3625955442044975\n",
      "1.1976464515363254 0\n",
      "2.4160094194975947 0\n",
      "1.3493803229978998 1.3493803229978998\n",
      "1.9704800516858687 0\n",
      "1.3633539399426233 1.0853313748198057\n",
      "1.5972163301147804 1.5972163301147804\n",
      "1.6441058519126164 0\n",
      "1.2886674033820804 0\n",
      "2.5593540030853026 0\n",
      "1.9078603160721994 0\n",
      "2.644770560047015 0\n",
      "0.5599851601057841 0.5599851601057841\n",
      "1.1008765112298275 0\n",
      "1.1864481253538064 0.9656952474735703\n",
      "1.7902496841887894 1.1031817671801503\n",
      "1.815012864238692 0\n",
      "1.1074573110005161 0\n",
      "0.12878183055964187 0\n",
      "2.41046064155476 0\n",
      "2.508489173356739 0\n",
      "1.4435589567192508 0\n",
      "1.2959577707602263 0\n",
      "1.7822608904731636 0\n",
      "0.8172695232871565 0\n",
      "2.6072432874148546 0\n",
      "1.9552645114471212 0\n",
      "2.3329027513411624 0\n",
      "1.3456584571752814 1.3456584571752814\n",
      "1.689189892294483 0\n",
      "0.5367425376876122 0.24178423563412432\n",
      "0.48605647493281723 0\n",
      "1.3408620172478773 1.0620501681013383\n",
      "1.61350455412473 0\n",
      "2.0159885300582987 0\n",
      "1.730349975971074 0\n",
      "1.640831339971922 1.640831339971922\n",
      "1.9946044967425616 1.7642451261968461\n",
      "2.658906207765998 2.658906207765998\n",
      "0.9914187454711828 0\n",
      "1.034434633327096 0\n",
      "2.838019127418235 2.7987578880600883\n",
      "1.4205975615489435 0\n",
      "0.5598443693310158 0.05764021471320235\n",
      "2.5707997325139296 0\n",
      "2.322119084177789 0\n",
      "0.7447854030911116 0\n",
      "1.6831423773932164 0\n",
      "1.943202962550569 1.0170643672310433\n",
      "1.6475595860096872 0\n",
      "1.6954318635984673 0.5453561829979942\n",
      "1.1792942021405437 1.1792942021405437\n",
      "2.671613925765181 0\n",
      "1.8525919093964176 0\n",
      "0.9236677540494252 0.3213423385100398\n",
      "1.370770613601887 1.370770613601887\n",
      "2.313219160515147 2.313219160515147\n",
      "1.0103988643317936 1.0103988643317936\n",
      "1.906639415014905 0\n",
      "1.9377105485592931 0\n",
      "1.646400578586266 1.646400578586266\n",
      "1.5801576365100405 0\n",
      "2.1413849750679352 0\n",
      "1.5120694698822095 1.5120694698822095\n",
      "1.971113157752415 0\n",
      "1.0621650808035985 0.6320809624984081\n",
      "1.7769831449525582 1.7769831449525582\n",
      "0.8294906704012605 0.8294906704012605\n",
      "2.330162774579236 0.8066172504346053\n",
      "0.9099162187089403 0\n",
      "1.4882918238069376 1.4882918238069376\n",
      "1.225525404882482 0\n",
      "2.656331344359832 0\n",
      "FINAL ACCURACY 19\n"
     ]
    },
    {
     "data": {
      "text/plain": [
       "19"
      ]
     },
     "execution_count": 22,
     "metadata": {},
     "output_type": "execute_result"
    }
   ],
   "source": [
    "aqtest(4,2)"
   ]
  },
  {
   "cell_type": "code",
   "execution_count": 20,
   "id": "cadcd357",
   "metadata": {},
   "outputs": [
    {
     "name": "stdout",
     "output_type": "stream",
     "text": [
      "3\n",
      "FINAL ACCURACY 32\n",
      "4\n",
      "FINAL ACCURACY 20\n",
      "5\n",
      "FINAL ACCURACY 5\n",
      "6\n",
      "FINAL ACCURACY 9\n",
      "7\n",
      "FINAL ACCURACY 2\n",
      "8\n",
      "FINAL ACCURACY 0\n",
      "9\n",
      "FINAL ACCURACY 0\n"
     ]
    }
   ],
   "source": [
    "list1=[]\n",
    "for nn in range(3,10):\n",
    "    print(nn)\n",
    "    count=aqtest(nn,2)\n",
    "    list1.append(count)"
   ]
  },
  {
   "cell_type": "code",
   "execution_count": null,
   "id": "7d0c0faa",
   "metadata": {},
   "outputs": [],
   "source": []
  }
 ],
 "metadata": {
  "kernelspec": {
   "display_name": "Python 3 (ipykernel)",
   "language": "python",
   "name": "python3"
  },
  "language_info": {
   "codemirror_mode": {
    "name": "ipython",
    "version": 3
   },
   "file_extension": ".py",
   "mimetype": "text/x-python",
   "name": "python",
   "nbconvert_exporter": "python",
   "pygments_lexer": "ipython3",
   "version": "3.8.16"
  },
  "toc": {
   "base_numbering": 1,
   "nav_menu": {},
   "number_sections": true,
   "sideBar": true,
   "skip_h1_title": false,
   "title_cell": "Table of Contents",
   "title_sidebar": "Contents",
   "toc_cell": false,
   "toc_position": {},
   "toc_section_display": true,
   "toc_window_display": false
  }
 },
 "nbformat": 4,
 "nbformat_minor": 5
}
