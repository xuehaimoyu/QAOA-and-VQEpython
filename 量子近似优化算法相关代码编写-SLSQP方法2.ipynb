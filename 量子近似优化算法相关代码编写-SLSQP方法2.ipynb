{
 "cells": [
  {
   "cell_type": "code",
   "execution_count": 1,
   "id": "48a6ead3",
   "metadata": {},
   "outputs": [],
   "source": [
    "import numpy as np\n",
    "from qiskit import QuantumCircuit, transpile\n",
    "from qiskit.providers.aer import QasmSimulator\n",
    "from qiskit.visualization import plot_histogram\n",
    "from qiskit.quantum_info.operators import Operator, Pauli\n",
    "import networkx as nx\n",
    "from qiskit import Aer\n",
    "import time\n",
    "import warnings\n",
    "import scipy\n",
    "warnings.filterwarnings(\"ignore\")\n",
    "Z = Pauli('Z')\n",
    "Z=Operator(Z)\n",
    "I=Pauli('I')\n",
    "I=Operator(I)"
   ]
  },
  {
   "cell_type": "markdown",
   "id": "7ac5547d",
   "metadata": {},
   "source": [
    "# 自动随机生成网格及相应边长\n",
    "使用networkx作为研究工具\n",
    "\n",
    "生成方法，给定节点数，每两个节点有一定概率相互连接，若连接，就自动生成一个边长\n"
   ]
  },
  {
   "cell_type": "code",
   "execution_count": 2,
   "id": "34899e57",
   "metadata": {},
   "outputs": [],
   "source": [
    "def random():\n",
    "    weight=np.random.random()\n",
    "    return weight\n",
    "def origin_generator(n):\n",
    "    G=nx.Graph()\n",
    "    for i in range(0,n):\n",
    "        G.add_node(i)\n",
    "    for i in range(0,n):\n",
    "        for j in range(i+1,n):\n",
    "            if random()>0.4:\n",
    "                a=random()\n",
    "                #print(a)\n",
    "                G.add_edge(i,j,length=a)\n",
    "            else:\n",
    "                continue\n",
    "    return G\n",
    "def draw(G):\n",
    "    nx.draw(G, with_labels=True, node_color='b')"
   ]
  },
  {
   "cell_type": "markdown",
   "id": "79de00cd",
   "metadata": {},
   "source": [
    "# 自动构建量子线路\n",
    "qiskit"
   ]
  },
  {
   "cell_type": "code",
   "execution_count": 3,
   "id": "471bdf29",
   "metadata": {},
   "outputs": [],
   "source": [
    "def QAOA_circuit(n,beta,gamma,p,EVdata):\n",
    "    cir = QuantumCircuit(n)\n",
    "    for i in range(0,n):\n",
    "            cir.h(i)\n",
    "    for j in range(0,p):        \n",
    "        for qi,qj,k in EVdata:\n",
    "            cir.cx(qi,qj)\n",
    "            cir.rz(2*gamma[j]*k,qj)\n",
    "            cir.cx(qi,qj)\n",
    "        for i in range(0,n):\n",
    "            cir.rx(2*beta[j],i)    \n",
    "    cir.measure_all()\n",
    "    return cir\n",
    "    \n",
    "    "
   ]
  },
  {
   "cell_type": "code",
   "execution_count": 4,
   "id": "0e491e87",
   "metadata": {},
   "outputs": [],
   "source": [
    "def const_origin(p):#这个没有用上\n",
    "    origin=[]\n",
    "    for i in range(0,p):\n",
    "        origin.append(random())\n",
    "        origin.append(random())\n",
    "    return origin    "
   ]
  },
  {
   "cell_type": "code",
   "execution_count": 5,
   "id": "5744c2d1",
   "metadata": {},
   "outputs": [],
   "source": [
    "def simi_result(circuit):#进行实验测量\n",
    "    simulator = QasmSimulator()\n",
    "    compiled_circuit = transpile(circuit, simulator)\n",
    "    job = simulator.run(compiled_circuit, shots=500)\n",
    "    result = job.result()\n",
    "    counts = result.get_counts(compiled_circuit)\n",
    "    return counts\n",
    "    \n",
    "    "
   ]
  },
  {
   "cell_type": "code",
   "execution_count": 6,
   "id": "7a4b7e40",
   "metadata": {},
   "outputs": [],
   "source": [
    "def EVcut(EVdata):#图数据转换为处理的问题，量子比特与边长\n",
    "    first=[]\n",
    "    second=[]\n",
    "    length=[]\n",
    "    for i,j,k in EVdata:\n",
    "        first.append(i)\n",
    "        second.append(j)\n",
    "        length.append(k)\n",
    "    return first,second,length\n",
    "        "
   ]
  },
  {
   "cell_type": "code",
   "execution_count": 7,
   "id": "5bc4b9e3",
   "metadata": {},
   "outputs": [],
   "source": [
    "def classic(n,EVdata):\n",
    "    group=[]\n",
    "    v=2**n\n",
    "    for i in range(0,v):\n",
    "        str1=str(bin(i))\n",
    "        str2=str1.lstrip('0b')\n",
    "        str3=str2.rjust(n,'0')\n",
    "        group.append(str3)\n",
    "    value=classic_expectations(EVdata)\n",
    "    indexmax=value.index(max(value))\n",
    "    #print(group)\n",
    "    #print('true_result',group[indexmax])\n",
    "    #print(max(value))\n",
    "    return max(value)\n",
    "def classic_expectations(EVdata):\n",
    "    v=2**n\n",
    "    group=[]\n",
    "    for i in range(0,v):\n",
    "        str1=str(bin(i))\n",
    "        str2=str1.lstrip('0b')\n",
    "        str3=str2.rjust(n,'0')\n",
    "        group.append(str3)\n",
    "    total=0\n",
    "    total1=[]\n",
    "    first,second,length=EVcut(EVdata)\n",
    "    for j in range(0,len(group)):\n",
    "        for i in range(0,len(first)):\n",
    "            if group[j][first[i]]!=group[j][second[i]]:\n",
    "                temp=length[i]\n",
    "                total=total+temp\n",
    "                #print(\"yeah\")\n",
    "            else:\n",
    "                temp=0\n",
    "                total=total+temp\n",
    "        total1.append(total)\n",
    "        total=0\n",
    "    return total1"
   ]
  },
  {
   "cell_type": "code",
   "execution_count": 8,
   "id": "e2be0adb",
   "metadata": {},
   "outputs": [],
   "source": [
    "def expectations(EVdata,counts):#求取期望\n",
    "    group=list(counts.keys())\n",
    "    values=list(counts.values())  \n",
    "    total=0\n",
    "    total1=0\n",
    "    first,second,length=EVcut(EVdata)\n",
    "    for j in range(0,len(group)):\n",
    "        for i in range(0,len(first)):\n",
    "            if group[j][first[i]]!=group[j][second[i]]:\n",
    "                temp=length[i]\n",
    "                total=total+temp\n",
    "                #print(\"yeah\")\n",
    "            else:\n",
    "                temp=0\n",
    "                total=total+temp\n",
    "        total1=float(values[j])*total/500+total1\n",
    "        total=0\n",
    "    return total1\n",
    "def maxget(EVdata,counts):\n",
    "    group=list(counts.keys())\n",
    "    values=list(counts.values())\n",
    "    first,second,length=EVcut(EVdata)\n",
    "    indexmax=values.index(max(values))\n",
    "    maxnum=group[indexmax]\n",
    "    total=0\n",
    "    for i in range(0,len(first)):\n",
    "        if maxnum[first[i]]!=maxnum[second[i]]:\n",
    "            temp=length[i]\n",
    "            total=total+temp\n",
    "            #print(\"yeah\")\n",
    "        else:\n",
    "            temp=0\n",
    "            total=total+temp\n",
    "    #print(\"最大分割\",maxnum)\n",
    "    #print(\"最大分割值\",total)\n",
    "    return total"
   ]
  },
  {
   "cell_type": "markdown",
   "id": "dce75a16",
   "metadata": {},
   "source": [
    "# 算法实现\n",
    "这里使用的是贝叶斯优化器来进行调参，随着步数p的深入，自动生成对应参数数量的优化器\n",
    "\n",
    "无梯度优化"
   ]
  },
  {
   "cell_type": "code",
   "execution_count": 9,
   "id": "1675b805",
   "metadata": {},
   "outputs": [],
   "source": [
    "def optifun(x):\n",
    "    x=list(x)\n",
    "    beta=[]\n",
    "    gamma=[]\n",
    "    for i in range(0,p):\n",
    "        beta.append(x[i])\n",
    "    for j in range(0,p):\n",
    "        gamma.append(x[j+p])\n",
    "    cir=QAOA_circuit(n,beta,gamma,p,EVdata)\n",
    "    counts=simi_result(cir)\n",
    "    exp=expectations(EVdata,counts)\n",
    "    return -exp    \n",
    "#def optimiaztion(): "
   ]
  },
  {
   "cell_type": "code",
   "execution_count": 10,
   "id": "c39adb34",
   "metadata": {},
   "outputs": [],
   "source": [
    "def bounds(p):\n",
    "    a=(0,np.pi)\n",
    "    b=(0,np.pi)\n",
    "    bnd=[]\n",
    "    for i in range(0,p):\n",
    "        bnd.append(a)\n",
    "    for j in range(0,p):\n",
    "        bnd.append(b)\n",
    "    bnd=tuple(bnd)\n",
    "    return bnd\n",
    "def main(n,p):\n",
    "    x0=np.array(const_origin(p))\n",
    "    bnd=bounds(p)\n",
    "    result=scipy.optimize.minimize(optifun,x0,method='SLSQP',bounds=bnd)\n",
    "    #print(result)\n",
    "    #print(result.x)\n",
    "    pa=list(result.x)\n",
    "    beta=[]\n",
    "    gamma=[]\n",
    "    for i in range(0,p):\n",
    "        beta.append(pa[i])\n",
    "    #print(beta)\n",
    "    for j in range(0,p):\n",
    "        gamma.append(pa[j+p])\n",
    "    #print(gamma)\n",
    "    cirfinal=QAOA_circuit(n,beta,gamma,p,EVdata)\n",
    "    counts=simi_result(cirfinal)\n",
    "    #print(counts)\n",
    "    a=maxget(EVdata,counts)\n",
    "    return a,counts\n",
    "    "
   ]
  },
  {
   "cell_type": "markdown",
   "id": "fa27e13e",
   "metadata": {},
   "source": [
    "# 结果输出"
   ]
  },
  {
   "cell_type": "code",
   "execution_count": 11,
   "id": "3d79dd7d",
   "metadata": {},
   "outputs": [
    {
     "name": "stdout",
     "output_type": "stream",
     "text": [
      "问题\n",
      "节点 0 1 长度 0.44148512381158145\n",
      "节点 0 2 长度 0.12812975233962287\n",
      "节点 0 3 长度 0.7818569097663916\n",
      "节点 1 2 长度 0.5851176485410425\n"
     ]
    },
    {
     "data": {
      "image/png": "[encoded data removed]",
      "text/plain": [
       "<Figure size 640x480 with 1 Axes>"
      ]
     },
     "metadata": {},
     "output_type": "display_data"
    }
   ],
   "source": [
    "n=4\n",
    "p=1\n",
    "G=origin_generator(n)\n",
    "draw(G)\n",
    "EVdata = G.edges(data=\"length\")\n",
    "print(\"问题\")\n",
    "for i,j,k in EVdata:\n",
    "    print(\"节点\",i,j,\"长度\",k)"
   ]
  },
  {
   "cell_type": "markdown",
   "id": "f8afc92c",
   "metadata": {},
   "source": [
    "# 经典"
   ]
  },
  {
   "cell_type": "code",
   "execution_count": null,
   "id": "6c2cc0e4",
   "metadata": {},
   "outputs": [],
   "source": []
  },
  {
   "cell_type": "code",
   "execution_count": 12,
   "id": "e1ffd12d",
   "metadata": {},
   "outputs": [
    {
     "data": {
      "text/plain": [
       "1.8084596821190155"
      ]
     },
     "execution_count": 12,
     "metadata": {},
     "output_type": "execute_result"
    }
   ],
   "source": [
    "classic(n,EVdata)"
   ]
  },
  {
   "cell_type": "code",
   "execution_count": 13,
   "id": "ea94705f",
   "metadata": {},
   "outputs": [
    {
     "name": "stdout",
     "output_type": "stream",
     "text": [
      "0\n"
     ]
    }
   ],
   "source": [
    "re,counts=main(n,p)\n",
    "print(re)"
   ]
  },
  {
   "cell_type": "code",
   "execution_count": null,
   "id": "02c2e818",
   "metadata": {},
   "outputs": [],
   "source": []
  },
  {
   "cell_type": "code",
   "execution_count": 14,
   "id": "122a4b2f",
   "metadata": {},
   "outputs": [],
   "source": [
    "def aqtest(a,b):\n",
    "    global n\n",
    "    global p\n",
    "    n=a\n",
    "    p=b    \n",
    "    count=0\n",
    "    for i in range(0,100):\n",
    "        #print(\"当前进度\",i)\n",
    "        G=origin_generator(n)\n",
    "        global EVdata\n",
    "        EVdata = G.edges(data=\"length\")\n",
    "        max1=classic(n,EVdata)\n",
    "        max2,counts=main(n,p)\n",
    "        if max1==max2:\n",
    "            count=count+1\n",
    "    print(\"FINAL ACCURACY\",count)\n",
    "    return count "
   ]
  },
  {
   "cell_type": "code",
   "execution_count": 15,
   "id": "899c7029",
   "metadata": {},
   "outputs": [
    {
     "name": "stdout",
     "output_type": "stream",
     "text": [
      "1\n",
      "FINAL ACCURACY 12\n",
      "2\n",
      "FINAL ACCURACY 17\n",
      "3\n",
      "FINAL ACCURACY 25\n",
      "4\n",
      "FINAL ACCURACY 16\n",
      "5\n",
      "FINAL ACCURACY 17\n"
     ]
    }
   ],
   "source": [
    "list1=[]\n",
    "for nn in range(1,6):\n",
    "    print(nn)\n",
    "    count=aqtest(4,nn)\n",
    "    list1.append(count)"
   ]
  },
  {
   "cell_type": "code",
   "execution_count": 14,
   "id": "21aba7e2",
   "metadata": {},
   "outputs": [
    {
     "name": "stdout",
     "output_type": "stream",
     "text": [
      "3\n",
      "FINAL ACCURACY 29\n",
      "4\n",
      "FINAL ACCURACY 24\n",
      "5\n",
      "FINAL ACCURACY 4\n",
      "6\n",
      "FINAL ACCURACY 7\n",
      "7\n",
      "FINAL ACCURACY 1\n",
      "8\n",
      "FINAL ACCURACY 1\n",
      "9\n",
      "FINAL ACCURACY 0\n"
     ]
    }
   ],
   "source": [
    "list1=[]\n",
    "for nn in range(3,10):\n",
    "    print(nn)\n",
    "    count=aqtest(nn,2)\n",
    "    list1.append(count)"
   ]
  },
  {
   "cell_type": "code",
   "execution_count": null,
   "id": "6dec3e10",
   "metadata": {},
   "outputs": [],
   "source": []
  }
 ],
 "metadata": {
  "kernelspec": {
   "display_name": "Python 3 (ipykernel)",
   "language": "python",
   "name": "python3"
  },
  "language_info": {
   "codemirror_mode": {
    "name": "ipython",
    "version": 3
   },
   "file_extension": ".py",
   "mimetype": "text/x-python",
   "name": "python",
   "nbconvert_exporter": "python",
   "pygments_lexer": "ipython3",
   "version": "3.8.16"
  },
  "toc": {
   "base_numbering": 1,
   "nav_menu": {},
   "number_sections": true,
   "sideBar": true,
   "skip_h1_title": false,
   "title_cell": "Table of Contents",
   "title_sidebar": "Contents",
   "toc_cell": false,
   "toc_position": {},
   "toc_section_display": true,
   "toc_window_display": false
  }
 },
 "nbformat": 4,
 "nbformat_minor": 5
}
