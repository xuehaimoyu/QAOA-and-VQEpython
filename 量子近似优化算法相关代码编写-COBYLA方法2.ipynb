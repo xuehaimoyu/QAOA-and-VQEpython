{
 "cells": [
  {
   "cell_type": "code",
   "execution_count": 1,
   "id": "48a6ead3",
   "metadata": {},
   "outputs": [],
   "source": [
    "import numpy as np\n",
    "from qiskit import QuantumCircuit, transpile\n",
    "from qiskit.providers.aer import QasmSimulator\n",
    "from qiskit.visualization import plot_histogram\n",
    "from qiskit.quantum_info.operators import Operator, Pauli\n",
    "import networkx as nx\n",
    "from qiskit import Aer\n",
    "import time\n",
    "import warnings\n",
    "import scipy\n",
    "warnings.filterwarnings(\"ignore\")\n",
    "Z = Pauli('Z')\n",
    "Z=Operator(Z)\n",
    "I=Pauli('I')\n",
    "I=Operator(I)"
   ]
  },
  {
   "cell_type": "markdown",
   "id": "7ac5547d",
   "metadata": {},
   "source": [
    "# 自动随机生成网格及相应边长\n",
    "使用networkx作为研究工具\n",
    "\n",
    "生成方法，给定节点数，每两个节点有一定概率相互连接，若连接，就自动生成一个边长\n"
   ]
  },
  {
   "cell_type": "code",
   "execution_count": 2,
   "id": "34899e57",
   "metadata": {},
   "outputs": [],
   "source": [
    "def random():\n",
    "    weight=np.random.random()\n",
    "    return weight\n",
    "def origin_generator(n):\n",
    "    G=nx.Graph()\n",
    "    for i in range(0,n):\n",
    "        G.add_node(i)\n",
    "    for i in range(0,n):\n",
    "        for j in range(i+1,n):\n",
    "            if random()>0.4:\n",
    "                a=random()\n",
    "                #print(a)\n",
    "                G.add_edge(i,j,length=a)\n",
    "            else:\n",
    "                continue\n",
    "    return G\n",
    "def draw(G):\n",
    "    nx.draw(G, with_labels=True, node_color='b')"
   ]
  },
  {
   "cell_type": "markdown",
   "id": "79de00cd",
   "metadata": {},
   "source": [
    "# 自动构建量子线路\n",
    "qiskit"
   ]
  },
  {
   "cell_type": "code",
   "execution_count": 3,
   "id": "471bdf29",
   "metadata": {},
   "outputs": [],
   "source": [
    "def QAOA_circuit(n,beta,gamma,p,EVdata):\n",
    "    cir = QuantumCircuit(n)\n",
    "    for i in range(0,n):\n",
    "            cir.h(i)\n",
    "    for j in range(0,p):        \n",
    "        for qi,qj,k in EVdata:\n",
    "            cir.cx(qi,qj)\n",
    "            cir.rz(2*gamma[j]*k,qj)\n",
    "            cir.cx(qi,qj)\n",
    "        for i in range(0,n):\n",
    "            cir.rx(2*beta[j],i)    \n",
    "    cir.measure_all()\n",
    "    return cir\n",
    "    \n",
    "    "
   ]
  },
  {
   "cell_type": "code",
   "execution_count": 4,
   "id": "0e491e87",
   "metadata": {},
   "outputs": [],
   "source": [
    "def const_origin(p):#这个没有用上\n",
    "    origin=[]\n",
    "    for i in range(0,p):\n",
    "        origin.append(random())\n",
    "        origin.append(random())\n",
    "    return origin    "
   ]
  },
  {
   "cell_type": "code",
   "execution_count": 5,
   "id": "5744c2d1",
   "metadata": {},
   "outputs": [],
   "source": [
    "def simi_result(circuit):#进行实验测量\n",
    "    simulator = QasmSimulator()\n",
    "    compiled_circuit = transpile(circuit, simulator)\n",
    "    job = simulator.run(compiled_circuit, shots=500)\n",
    "    result = job.result()\n",
    "    counts = result.get_counts(compiled_circuit)\n",
    "    return counts\n",
    "    \n",
    "    "
   ]
  },
  {
   "cell_type": "code",
   "execution_count": 6,
   "id": "7a4b7e40",
   "metadata": {},
   "outputs": [],
   "source": [
    "def EVcut(EVdata):#图数据转换为处理的问题，量子比特与边长\n",
    "    first=[]\n",
    "    second=[]\n",
    "    length=[]\n",
    "    for i,j,k in EVdata:\n",
    "        first.append(i)\n",
    "        second.append(j)\n",
    "        length.append(k)\n",
    "    return first,second,length\n",
    "        "
   ]
  },
  {
   "cell_type": "code",
   "execution_count": 7,
   "id": "5bc4b9e3",
   "metadata": {},
   "outputs": [],
   "source": [
    "def classic(n,EVdata):\n",
    "    group=[]\n",
    "    v=2**n\n",
    "    for i in range(0,v):\n",
    "        str1=str(bin(i))\n",
    "        str2=str1.lstrip('0b')\n",
    "        str3=str2.rjust(n,'0')\n",
    "        group.append(str3)\n",
    "    value=classic_expectations(EVdata)\n",
    "    indexmax=value.index(max(value))\n",
    "    #print(group)\n",
    "    #print('true_result',group[indexmax])\n",
    "    #print(max(value))\n",
    "    return max(value)\n",
    "def classic_expectations(EVdata):\n",
    "    v=2**n\n",
    "    group=[]\n",
    "    for i in range(0,v):\n",
    "        str1=str(bin(i))\n",
    "        str2=str1.lstrip('0b')\n",
    "        str3=str2.rjust(n,'0')\n",
    "        group.append(str3)\n",
    "    total=0\n",
    "    total1=[]\n",
    "    first,second,length=EVcut(EVdata)\n",
    "    for j in range(0,len(group)):\n",
    "        for i in range(0,len(first)):\n",
    "            if group[j][first[i]]!=group[j][second[i]]:\n",
    "                temp=length[i]\n",
    "                total=total+temp\n",
    "                #print(\"yeah\")\n",
    "            else:\n",
    "                temp=0\n",
    "                total=total+temp\n",
    "        total1.append(total)\n",
    "        total=0\n",
    "    return total1"
   ]
  },
  {
   "cell_type": "code",
   "execution_count": 8,
   "id": "e2be0adb",
   "metadata": {},
   "outputs": [],
   "source": [
    "def expectations(EVdata,counts):#求取期望\n",
    "    group=list(counts.keys())\n",
    "    values=list(counts.values())  \n",
    "    total=0\n",
    "    total1=0\n",
    "    first,second,length=EVcut(EVdata)\n",
    "    for j in range(0,len(group)):\n",
    "        for i in range(0,len(first)):\n",
    "            if group[j][first[i]]!=group[j][second[i]]:\n",
    "                temp=length[i]\n",
    "                total=total+temp\n",
    "                #print(\"yeah\")\n",
    "            else:\n",
    "                temp=0\n",
    "                total=total+temp\n",
    "        total1=float(values[j])*total/500+total1\n",
    "        total=0\n",
    "    return total1\n",
    "def maxget(EVdata,counts):\n",
    "    group=list(counts.keys())\n",
    "    values=list(counts.values())\n",
    "    first,second,length=EVcut(EVdata)\n",
    "    indexmax=values.index(max(values))\n",
    "    maxnum=group[indexmax]\n",
    "    total=0\n",
    "    for i in range(0,len(first)):\n",
    "        if maxnum[first[i]]!=maxnum[second[i]]:\n",
    "            temp=length[i]\n",
    "            total=total+temp\n",
    "            #print(\"yeah\")\n",
    "        else:\n",
    "            temp=0\n",
    "            total=total+temp\n",
    "    #print(\"最大分割\",maxnum)\n",
    "    #print(\"最大分割值\",total)\n",
    "    return total"
   ]
  },
  {
   "cell_type": "markdown",
   "id": "dce75a16",
   "metadata": {},
   "source": [
    "# 算法实现\n",
    "这里使用的是贝叶斯优化器来进行调参，随着步数p的深入，自动生成对应参数数量的优化器\n",
    "\n",
    "无梯度优化"
   ]
  },
  {
   "cell_type": "code",
   "execution_count": 9,
   "id": "1675b805",
   "metadata": {},
   "outputs": [],
   "source": [
    "def optifun(x):\n",
    "    x=list(x)\n",
    "    beta=[]\n",
    "    gamma=[]\n",
    "    for i in range(0,p):\n",
    "        beta.append(x[i])\n",
    "    for j in range(0,p):\n",
    "        gamma.append(x[j+p])\n",
    "    cir=QAOA_circuit(n,beta,gamma,p,EVdata)\n",
    "    counts=simi_result(cir)\n",
    "    exp=expectations(EVdata,counts)\n",
    "    return -exp    \n",
    "#def optimiaztion(): "
   ]
  },
  {
   "cell_type": "code",
   "execution_count": 10,
   "id": "c39adb34",
   "metadata": {},
   "outputs": [],
   "source": [
    "def bounds(p):\n",
    "    a=(0,np.pi)\n",
    "    b=(0,np.pi)\n",
    "    bnd=[]\n",
    "    for i in range(0,p):\n",
    "        bnd.append(a)\n",
    "    for j in range(0,p):\n",
    "        bnd.append(b)\n",
    "    bnd=tuple(bnd)\n",
    "    return bnd\n",
    "def main(n,p):\n",
    "    x0=np.array(const_origin(p))\n",
    "    bnd=bounds(p)\n",
    "    result=scipy.optimize.minimize(optifun,x0,method='COBYLA',bounds=bnd)\n",
    "    #print(result)\n",
    "    #print(result.x)\n",
    "    pa=list(result.x)\n",
    "    beta=[]\n",
    "    gamma=[]\n",
    "    for i in range(0,p):\n",
    "        beta.append(pa[i])\n",
    "    #print(beta)\n",
    "    for j in range(0,p):\n",
    "        gamma.append(pa[j+p])\n",
    "    #print(gamma)\n",
    "    cirfinal=QAOA_circuit(n,beta,gamma,p,EVdata)\n",
    "    counts=simi_result(cirfinal)\n",
    "    #print(counts)\n",
    "    a=maxget(EVdata,counts)\n",
    "    return a,counts\n",
    "    "
   ]
  },
  {
   "cell_type": "markdown",
   "id": "fa27e13e",
   "metadata": {},
   "source": [
    "# 结果输出"
   ]
  },
  {
   "cell_type": "code",
   "execution_count": 11,
   "id": "3d79dd7d",
   "metadata": {},
   "outputs": [
    {
     "name": "stdout",
     "output_type": "stream",
     "text": [
      "问题\n",
      "节点 0 3 长度 0.9137442861668003\n",
      "节点 1 3 长度 0.6500621380176358\n"
     ]
    },
    {
     "data": {
      "image/png": "[encoded data removed]",
      "text/plain": [
       "<Figure size 640x480 with 1 Axes>"
      ]
     },
     "metadata": {},
     "output_type": "display_data"
    }
   ],
   "source": [
    "n=4\n",
    "p=1\n",
    "G=origin_generator(n)\n",
    "draw(G)\n",
    "EVdata = G.edges(data=\"length\")\n",
    "print(\"问题\")\n",
    "for i,j,k in EVdata:\n",
    "    print(\"节点\",i,j,\"长度\",k)"
   ]
  },
  {
   "cell_type": "markdown",
   "id": "f8afc92c",
   "metadata": {},
   "source": [
    "# 经典"
   ]
  },
  {
   "cell_type": "code",
   "execution_count": null,
   "id": "6c2cc0e4",
   "metadata": {},
   "outputs": [],
   "source": []
  },
  {
   "cell_type": "code",
   "execution_count": 12,
   "id": "e1ffd12d",
   "metadata": {},
   "outputs": [
    {
     "data": {
      "text/plain": [
       "1.563806424184436"
      ]
     },
     "execution_count": 12,
     "metadata": {},
     "output_type": "execute_result"
    }
   ],
   "source": [
    "classic(n,EVdata)"
   ]
  },
  {
   "cell_type": "code",
   "execution_count": 13,
   "id": "ea94705f",
   "metadata": {},
   "outputs": [
    {
     "name": "stdout",
     "output_type": "stream",
     "text": [
      "1.563806424184436\n"
     ]
    }
   ],
   "source": [
    "re,counts=main(n,p)\n",
    "print(re)"
   ]
  },
  {
   "cell_type": "code",
   "execution_count": null,
   "id": "02c2e818",
   "metadata": {},
   "outputs": [],
   "source": []
  },
  {
   "cell_type": "code",
   "execution_count": 14,
   "id": "122a4b2f",
   "metadata": {},
   "outputs": [],
   "source": [
    "def aqtest(a,b):\n",
    "    global n\n",
    "    global p\n",
    "    n=a\n",
    "    p=b    \n",
    "    count=0\n",
    "    for i in range(0,100):\n",
    "        #print(\"当前进度\",i)\n",
    "        G=origin_generator(n)\n",
    "        global EVdata\n",
    "        EVdata = G.edges(data=\"length\")\n",
    "        max1=classic(n,EVdata)\n",
    "        max2,counts=main(n,p)\n",
    "        #print(max1,max2)\n",
    "        if max1==max2:\n",
    "            count=count+1\n",
    "    print(\"FINAL ACCURACY\",count)\n",
    "    return count "
   ]
  },
  {
   "cell_type": "code",
   "execution_count": 15,
   "id": "899c7029",
   "metadata": {},
   "outputs": [
    {
     "name": "stdout",
     "output_type": "stream",
     "text": [
      "1\n",
      "FINAL ACCURACY 55\n",
      "2\n",
      "FINAL ACCURACY 52\n",
      "3\n",
      "FINAL ACCURACY 57\n",
      "4\n",
      "FINAL ACCURACY 51\n",
      "5\n",
      "FINAL ACCURACY 54\n"
     ]
    }
   ],
   "source": [
    "list1=[]\n",
    "for nn in range(1,6):\n",
    "    print(nn)\n",
    "    count=aqtest(4,nn)\n",
    "    list1.append(count)"
   ]
  },
  {
   "cell_type": "code",
   "execution_count": 19,
   "id": "0d100807",
   "metadata": {},
   "outputs": [
    {
     "name": "stdout",
     "output_type": "stream",
     "text": [
      "3\n",
      "FINAL ACCURACY 47\n",
      "4\n",
      "FINAL ACCURACY 67\n",
      "5\n",
      "FINAL ACCURACY 15\n",
      "6\n",
      "FINAL ACCURACY 20\n",
      "7\n",
      "FINAL ACCURACY 9\n",
      "8\n",
      "FINAL ACCURACY 11\n",
      "9\n",
      "FINAL ACCURACY 1\n"
     ]
    }
   ],
   "source": [
    "list1=[]\n",
    "for nn in range(3,10):\n",
    "    print(nn)\n",
    "    count=aqtest(nn,2)\n",
    "    list1.append(count)"
   ]
  },
  {
   "cell_type": "code",
   "execution_count": 21,
   "id": "a303c939",
   "metadata": {},
   "outputs": [
    {
     "name": "stdout",
     "output_type": "stream",
     "text": [
      "1.720515573227382 0.911728404169274\n",
      "1.5765831260897185 1.5765831260897185\n",
      "1.2334472319345235 0.21208934671064839\n",
      "1.8053008173510672 1.8053008173510672\n",
      "1.6588812718850323 1.6588812718850323\n",
      "0.674798271317962 0.674798271317962\n",
      "3.395849927871901 3.395849927871901\n",
      "0.9582005212280946 0.9582005212280946\n",
      "1.380407738414509 1.380407738414509\n",
      "2.0048550982112605 2.0048550982112605\n",
      "1.728918304101485 1.666729749670378\n",
      "1.5350938788419546 0.7521481547515347\n",
      "1.4150931143970529 1.4150931143970529\n",
      "0.7078953251223455 0.7078953251223455\n",
      "1.9070873912877446 1.729317922821966\n",
      "2.6140287419915404 2.6140287419915404\n",
      "1.8436531236726692 1.8436531236726692\n",
      "0.8809401307352177 0.8809401307352177\n",
      "2.7236912464342 2.7236912464342\n",
      "1.0919065693195613 1.0919065693195613\n",
      "0.7962654818209676 0.49874732548494394\n",
      "1.5718624688854028 1.0515503144946219\n",
      "1.0345123729079286 1.0345123729079286\n",
      "2.037751169040946 2.037751169040946\n",
      "1.8204883902713886 1.8204883902713886\n",
      "1.5268156705146505 1.454559549971437\n",
      "2.1869320100561502 2.1869320100561502\n",
      "1.0579143910308206 1.0579143910308206\n",
      "1.800494013282591 1.800494013282591\n",
      "1.3974546437194877 1.3974546437194877\n",
      "1.07799240980713 1.07799240980713\n",
      "1.36219549715634 0.5626112170343995\n",
      "1.0912970645730362 1.0569105684640583\n",
      "1.514037013495261 1.514037013495261\n",
      "1.7471843567518008 1.6305725673566354\n",
      "3.125696190838182 3.125696190838182\n",
      "1.738402561890931 1.738402561890931\n",
      "0.6541084091836283 0.5582229274526345\n",
      "1.845466453378752 1.845466453378752\n",
      "0.15513268726918472 0\n",
      "2.1138385578580983 2.1138385578580983\n",
      "1.541886826628442 1.541886826628442\n",
      "1.2144796117238124 1.2144796117238124\n",
      "2.2511707993948327 2.2511707993948327\n",
      "0.5862939206347684 0.36024487034988917\n",
      "0.7169944382461639 0.7169944382461639\n",
      "1.2208899498344485 1.2208899498344485\n",
      "1.0696906267839357 1.0659724899308713\n",
      "1.3693921336097854 1.1512980580170673\n",
      "1.075826871125644 0.8308604097668645\n",
      "1.965956782145385 1.965956782145385\n",
      "1.0870287653705863 0\n",
      "0.9784925130380824 0.21270939528746002\n",
      "1.9082265676095038 1.9082265676095038\n",
      "1.3079056021018443 0.5852580863175474\n",
      "0.8339618711845376 0.8339618711845376\n",
      "1.8906435090844447 1.8906435090844447\n",
      "1.7691772191624346 1.7691772191624346\n",
      "1.7690327714041871 1.7690327714041871\n",
      "1.0147765489384315 1.0147765489384315\n",
      "1.3683864588757242 1.2831321194040077\n",
      "2.1638554537447714 2.1638554537447714\n",
      "2.24429715780119 2.24429715780119\n",
      "0 0\n",
      "1.5103998169799935 1.5103998169799935\n",
      "2.002503701261122 2.002503701261122\n",
      "0.8688801646056409 0.8688801646056409\n",
      "1.6165350836680652 1.6165350836680652\n",
      "1.8558602246757476 1.7648934160310272\n",
      "0.9367321135877333 0.9367321135877333\n",
      "1.3693889997390105 0.7178042630363703\n",
      "2.982247166281122 2.982247166281122\n",
      "2.1651496199958666 0.7137541201194548\n",
      "1.953745515286458 1.953745515286458\n",
      "0.11620000058438762 0.10541140429940399\n",
      "1.2500727745897002 1.2500727745897002\n",
      "2.1869504914404674 2.1869504914404674\n",
      "1.2374258832503533 1.2374258832503533\n",
      "1.79782106646408 1.79782106646408\n",
      "1.288927698362325 0.6051778785223654\n",
      "2.710912605298237 2.710912605298237\n",
      "2.3231448755817423 2.3231448755817423\n",
      "1.5256639502608036 1.5256639502608036\n",
      "1.0909131962515444 1.0909131962515444\n",
      "0.6779482534847248 0.6779482534847248\n",
      "1.2847677127939932 1.2847677127939932\n",
      "1.124223960476887 0.29218743352615006\n",
      "1.813280833861001 1.813280833861001\n",
      "1.2698077823568994 1.2698077823568994\n",
      "2.0820479874885454 2.0820479874885454\n",
      "1.282631101677075 1.0969970809494216\n",
      "1.2704026991494526 0.4593633202135955\n",
      "2.991581505520947 2.991581505520947\n",
      "2.8846274417498723 2.8846274417498723\n",
      "1.0778888904334716 1.0778888904334716\n",
      "1.6618792999671306 1.6618792999671306\n",
      "2.230886965052323 2.230886965052323\n",
      "1.9937481895337228 1.9937481895337228\n",
      "2.1839013723659386 2.178066591936243\n",
      "0 0\n",
      "FINAL ACCURACY 70\n"
     ]
    },
    {
     "data": {
      "text/plain": [
       "70"
      ]
     },
     "execution_count": 21,
     "metadata": {},
     "output_type": "execute_result"
    }
   ],
   "source": [
    "aqtest(4,2)"
   ]
  },
  {
   "cell_type": "code",
   "execution_count": null,
   "id": "85bb551e",
   "metadata": {},
   "outputs": [],
   "source": []
  }
 ],
 "metadata": {
  "kernelspec": {
   "display_name": "Python 3 (ipykernel)",
   "language": "python",
   "name": "python3"
  },
  "language_info": {
   "codemirror_mode": {
    "name": "ipython",
    "version": 3
   },
   "file_extension": ".py",
   "mimetype": "text/x-python",
   "name": "python",
   "nbconvert_exporter": "python",
   "pygments_lexer": "ipython3",
   "version": "3.8.16"
  },
  "toc": {
   "base_numbering": 1,
   "nav_menu": {},
   "number_sections": true,
   "sideBar": true,
   "skip_h1_title": false,
   "title_cell": "Table of Contents",
   "title_sidebar": "Contents",
   "toc_cell": false,
   "toc_position": {},
   "toc_section_display": true,
   "toc_window_display": false
  }
 },
 "nbformat": 4,
 "nbformat_minor": 5
}
