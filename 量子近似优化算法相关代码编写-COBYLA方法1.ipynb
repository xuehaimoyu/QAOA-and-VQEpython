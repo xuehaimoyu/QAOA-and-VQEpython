{
 "cells": [
  {
   "cell_type": "code",
   "execution_count": 1,
   "id": "48a6ead3",
   "metadata": {},
   "outputs": [],
   "source": [
    "import numpy as np\n",
    "from qiskit import QuantumCircuit, transpile\n",
    "from qiskit.providers.aer import QasmSimulator\n",
    "from qiskit.visualization import plot_histogram\n",
    "from qiskit.quantum_info.operators import Operator, Pauli\n",
    "import networkx as nx\n",
    "from qiskit import Aer\n",
    "import time\n",
    "import warnings\n",
    "import scipy\n",
    "warnings.filterwarnings(\"ignore\")\n",
    "Z = Pauli('Z')\n",
    "Z=Operator(Z)\n",
    "I=Pauli('I')\n",
    "I=Operator(I)"
   ]
  },
  {
   "cell_type": "markdown",
   "id": "7ac5547d",
   "metadata": {},
   "source": [
    "# 自动随机生成网格及相应边长\n",
    "使用networkx作为研究工具\n",
    "\n",
    "生成方法，给定节点数，每两个节点有一定概率相互连接，若连接，就自动生成一个边长\n"
   ]
  },
  {
   "cell_type": "code",
   "execution_count": 2,
   "id": "34899e57",
   "metadata": {},
   "outputs": [],
   "source": [
    "def random():\n",
    "    weight=np.random.random()\n",
    "    return weight\n",
    "def origin_generator(n):\n",
    "    G=nx.Graph()\n",
    "    for i in range(0,n):\n",
    "        G.add_node(i)\n",
    "    for i in range(0,n):\n",
    "        for j in range(i+1,n):\n",
    "            if random()>0.4:\n",
    "                a=random()\n",
    "                #print(a)\n",
    "                G.add_edge(i,j,length=a)\n",
    "            else:\n",
    "                continue\n",
    "    return G\n",
    "def draw(G):\n",
    "    nx.draw(G, with_labels=True, node_color='b')"
   ]
  },
  {
   "cell_type": "markdown",
   "id": "79de00cd",
   "metadata": {},
   "source": [
    "# 自动构建量子线路\n",
    "qiskit"
   ]
  },
  {
   "cell_type": "code",
   "execution_count": 3,
   "id": "471bdf29",
   "metadata": {},
   "outputs": [],
   "source": [
    "def QAOA_circuit(n,beta,gamma,p,EVdata):\n",
    "    cir = QuantumCircuit(n)\n",
    "    for i in range(0,n):\n",
    "            cir.h(i)\n",
    "    for j in range(0,p):        \n",
    "        for qi,qj,k in EVdata:\n",
    "            cir.cx(qi,qj)\n",
    "            cir.rz(2*gamma[j]*k,qj)\n",
    "            cir.cx(qi,qj)\n",
    "        for i in range(0,n):\n",
    "            cir.rx(2*beta[j],i)    \n",
    "    cir.measure_all()\n",
    "    return cir\n",
    "    \n",
    "    "
   ]
  },
  {
   "cell_type": "code",
   "execution_count": 4,
   "id": "0e491e87",
   "metadata": {},
   "outputs": [],
   "source": [
    "def const_origin(p):#这个没有用上\n",
    "    origin=[]\n",
    "    for i in range(0,p):\n",
    "        origin.append(random())\n",
    "        origin.append(random())\n",
    "    return origin    "
   ]
  },
  {
   "cell_type": "code",
   "execution_count": 5,
   "id": "5744c2d1",
   "metadata": {},
   "outputs": [],
   "source": [
    "def simi_result(circuit):#进行实验测量\n",
    "    simulator = QasmSimulator()\n",
    "    compiled_circuit = transpile(circuit, simulator)\n",
    "    job = simulator.run(compiled_circuit, shots=500)\n",
    "    result = job.result()\n",
    "    counts = result.get_counts(compiled_circuit)\n",
    "    return counts\n",
    "    \n",
    "    "
   ]
  },
  {
   "cell_type": "code",
   "execution_count": 6,
   "id": "7a4b7e40",
   "metadata": {},
   "outputs": [],
   "source": [
    "def EVcut(EVdata):#图数据转换为处理的问题，量子比特与边长\n",
    "    first=[]\n",
    "    second=[]\n",
    "    length=[]\n",
    "    for i,j,k in EVdata:\n",
    "        first.append(i)\n",
    "        second.append(j)\n",
    "        length.append(k)\n",
    "    return first,second,length\n",
    "        "
   ]
  },
  {
   "cell_type": "code",
   "execution_count": 7,
   "id": "5bc4b9e3",
   "metadata": {},
   "outputs": [],
   "source": [
    "def classic(n,EVdata):\n",
    "    group=[]\n",
    "    v=2**n\n",
    "    for i in range(0,v):\n",
    "        str1=str(bin(i))\n",
    "        str2=str1.lstrip('0b')\n",
    "        str3=str2.rjust(n,'0')\n",
    "        group.append(str3)\n",
    "    value=classic_expectations(EVdata)\n",
    "    indexmax=value.index(max(value))\n",
    "    #print(group)\n",
    "    #print('true_result',group[indexmax])\n",
    "    #print(max(value))\n",
    "    return max(value)\n",
    "def classic_expectations(EVdata):\n",
    "    v=2**n\n",
    "    group=[]\n",
    "    for i in range(0,v):\n",
    "        str1=str(bin(i))\n",
    "        str2=str1.lstrip('0b')\n",
    "        str3=str2.rjust(n,'0')\n",
    "        group.append(str3)\n",
    "    total=0\n",
    "    total1=[]\n",
    "    first,second,length=EVcut(EVdata)\n",
    "    for j in range(0,len(group)):\n",
    "        for i in range(0,len(first)):\n",
    "            if group[j][first[i]]!=group[j][second[i]]:\n",
    "                temp=length[i]\n",
    "                total=total+temp\n",
    "                #print(\"yeah\")\n",
    "            else:\n",
    "                temp=0\n",
    "                total=total+temp\n",
    "        total1.append(total)\n",
    "        total=0\n",
    "    return total1"
   ]
  },
  {
   "cell_type": "code",
   "execution_count": 8,
   "id": "e2be0adb",
   "metadata": {},
   "outputs": [],
   "source": [
    "def expectations(EVdata,counts):#求取期望\n",
    "    group=list(counts.keys())\n",
    "    values=list(counts.values())\n",
    "    indexmax=values.index(max(values))\n",
    "    maxnum=group[indexmax]\n",
    "    total=0\n",
    "    first,second,length=EVcut(EVdata)\n",
    "    for i in range(0,len(first)):\n",
    "        if maxnum[first[i]]!=maxnum[second[i]]:\n",
    "            temp=length[i]\n",
    "            total=total+temp\n",
    "            #print(\"yeah\")\n",
    "        else:\n",
    "            temp=0\n",
    "            total=total+temp\n",
    "    return total\n",
    "def maxget(EVdata,counts):\n",
    "    group=list(counts.keys())\n",
    "    values=list(counts.values())\n",
    "    first,second,length=EVcut(EVdata)\n",
    "    indexmax=values.index(max(values))\n",
    "    maxnum=group[indexmax]\n",
    "    total=0\n",
    "    for i in range(0,len(first)):\n",
    "        if maxnum[first[i]]!=maxnum[second[i]]:\n",
    "            temp=length[i]\n",
    "            total=total+temp\n",
    "            #print(\"yeah\")\n",
    "        else:\n",
    "            temp=0\n",
    "            total=total+temp\n",
    "    #print(\"最大分割\",maxnum)\n",
    "    #print(\"最大分割值\",total)\n",
    "    return total"
   ]
  },
  {
   "cell_type": "markdown",
   "id": "dce75a16",
   "metadata": {},
   "source": [
    "# 算法实现\n",
    "这里使用的是贝叶斯优化器来进行调参，随着步数p的深入，自动生成对应参数数量的优化器\n",
    "\n",
    "无梯度优化"
   ]
  },
  {
   "cell_type": "code",
   "execution_count": 9,
   "id": "1675b805",
   "metadata": {},
   "outputs": [],
   "source": [
    "def optifun(x):\n",
    "    x=list(x)\n",
    "    beta=[]\n",
    "    gamma=[]\n",
    "    for i in range(0,p):\n",
    "        beta.append(x[i])\n",
    "    for j in range(0,p):\n",
    "        gamma.append(x[j+p])\n",
    "    cir=QAOA_circuit(n,beta,gamma,p,EVdata)\n",
    "    counts=simi_result(cir)\n",
    "    exp=expectations(EVdata,counts)\n",
    "    return -exp    \n",
    "#def optimiaztion(): "
   ]
  },
  {
   "cell_type": "code",
   "execution_count": 10,
   "id": "404f465a",
   "metadata": {},
   "outputs": [],
   "source": [
    "import optuna#贝叶斯优化器\n",
    "def objective(trail):\n",
    "    names=locals()\n",
    "    for i in range(0,p):\n",
    "        names['beta{}'.format(i)]=trail.suggest_float(\"beta{}\".format(i),0,np.pi)\n",
    "    for i in range(0,p):\n",
    "        names['gamma{}'.format(i)]=trail.suggest_float(\"gamma{}\".format(i),0,np.pi)\n",
    "    cir = QuantumCircuit(n)\n",
    "    for j in range(0,p):  \n",
    "        for i in range(0,n):\n",
    "            cir.h(i)\n",
    "        for qi,qj,k in EVdata:\n",
    "            cir.cx(qi,qj)\n",
    "            cir.rz(2*names['gamma{}'.format(j)]*k,qj)\n",
    "            cir.cx(qi,qj)\n",
    "        for i in range(0,n):\n",
    "            cir.rx(2*names['beta{}'.format(j)],i)    \n",
    "    cir.measure_all()\n",
    "    counts=simi_result(cir)\n",
    "    exp=expectations(EVdata,counts)\n",
    "    return exp"
   ]
  },
  {
   "cell_type": "code",
   "execution_count": 11,
   "id": "c39adb34",
   "metadata": {},
   "outputs": [],
   "source": [
    "def bounds(p):\n",
    "    a=(0,np.pi)\n",
    "    b=(0,np.pi)\n",
    "    bnd=[]\n",
    "    for i in range(0,p):\n",
    "        bnd.append(a)\n",
    "    for j in range(0,p):\n",
    "        bnd.append(b)\n",
    "    bnd=tuple(bnd)\n",
    "    return bnd\n",
    "def main(n,p):\n",
    "    x0=np.array(const_origin(p))\n",
    "    bnd=bounds(p)\n",
    "    result=scipy.optimize.minimize(optifun,x0,method='COBYLA',bounds=bnd)\n",
    "    #print(result)\n",
    "    #print(result.x)\n",
    "    pa=list(result.x)\n",
    "    beta=[]\n",
    "    gamma=[]\n",
    "    for i in range(0,p):\n",
    "        beta.append(pa[i])\n",
    "    #print(beta)\n",
    "    for j in range(0,p):\n",
    "        gamma.append(pa[j+p])\n",
    "    #print(gamma)\n",
    "    cirfinal=QAOA_circuit(n,beta,gamma,p,EVdata)\n",
    "    counts=simi_result(cirfinal)\n",
    "    #print(counts)\n",
    "    a=maxget(EVdata,counts)\n",
    "    return a,counts\n",
    "    "
   ]
  },
  {
   "cell_type": "markdown",
   "id": "fa27e13e",
   "metadata": {},
   "source": [
    "# 结果输出"
   ]
  },
  {
   "cell_type": "code",
   "execution_count": 12,
   "id": "3d79dd7d",
   "metadata": {},
   "outputs": [
    {
     "name": "stdout",
     "output_type": "stream",
     "text": [
      "问题\n",
      "节点 0 2 长度 0.07291335331736315\n",
      "节点 2 3 长度 0.9634078718478071\n"
     ]
    },
    {
     "data": {
      "image/png": "[encoded data removed]",
      "text/plain": [
       "<Figure size 640x480 with 1 Axes>"
      ]
     },
     "metadata": {},
     "output_type": "display_data"
    }
   ],
   "source": [
    "n=4\n",
    "p=1\n",
    "G=origin_generator(n)\n",
    "draw(G)\n",
    "EVdata = G.edges(data=\"length\")\n",
    "print(\"问题\")\n",
    "for i,j,k in EVdata:\n",
    "    print(\"节点\",i,j,\"长度\",k)"
   ]
  },
  {
   "cell_type": "markdown",
   "id": "f8afc92c",
   "metadata": {},
   "source": [
    "# 经典"
   ]
  },
  {
   "cell_type": "code",
   "execution_count": null,
   "id": "6c2cc0e4",
   "metadata": {},
   "outputs": [],
   "source": []
  },
  {
   "cell_type": "code",
   "execution_count": 13,
   "id": "e1ffd12d",
   "metadata": {},
   "outputs": [
    {
     "data": {
      "text/plain": [
       "1.0363212251651701"
      ]
     },
     "execution_count": 13,
     "metadata": {},
     "output_type": "execute_result"
    }
   ],
   "source": [
    "classic(n,EVdata)"
   ]
  },
  {
   "cell_type": "code",
   "execution_count": 14,
   "id": "ea94705f",
   "metadata": {},
   "outputs": [
    {
     "name": "stdout",
     "output_type": "stream",
     "text": [
      "0.07291335331736315\n"
     ]
    }
   ],
   "source": [
    "re,counts=main(n,p)\n",
    "print(re)"
   ]
  },
  {
   "cell_type": "code",
   "execution_count": null,
   "id": "02c2e818",
   "metadata": {},
   "outputs": [],
   "source": []
  },
  {
   "cell_type": "code",
   "execution_count": 15,
   "id": "122a4b2f",
   "metadata": {},
   "outputs": [],
   "source": [
    "def aqtest(a,b):\n",
    "    global n\n",
    "    global p\n",
    "    n=a\n",
    "    p=b    \n",
    "    count=0\n",
    "    for i in range(0,100):\n",
    "        #print(\"当前进度\",i)\n",
    "        G=origin_generator(n)\n",
    "        global EVdata\n",
    "        EVdata = G.edges(data=\"length\")\n",
    "        max1=classic(n,EVdata)\n",
    "        max2,counts=main(n,p)\n",
    "        if max1==max2:\n",
    "            count=count+1\n",
    "    print(\"FINAL ACCURACY\",count)\n",
    "    return count "
   ]
  },
  {
   "cell_type": "code",
   "execution_count": 16,
   "id": "899c7029",
   "metadata": {},
   "outputs": [
    {
     "name": "stdout",
     "output_type": "stream",
     "text": [
      "3\n"
     ]
    },
    {
     "ename": "KeyboardInterrupt",
     "evalue": "",
     "output_type": "error",
     "traceback": [
      "\u001b[1;31m---------------------------------------------------------------------------\u001b[0m",
      "\u001b[1;31mKeyboardInterrupt\u001b[0m                         Traceback (most recent call last)",
      "Cell \u001b[1;32mIn[16], line 4\u001b[0m\n\u001b[0;32m      2\u001b[0m \u001b[38;5;28;01mfor\u001b[39;00m nn \u001b[38;5;129;01min\u001b[39;00m \u001b[38;5;28mrange\u001b[39m(\u001b[38;5;241m3\u001b[39m,\u001b[38;5;241m10\u001b[39m):\n\u001b[0;32m      3\u001b[0m     \u001b[38;5;28mprint\u001b[39m(nn)\n\u001b[1;32m----> 4\u001b[0m     count\u001b[38;5;241m=\u001b[39m\u001b[43maqtest\u001b[49m\u001b[43m(\u001b[49m\u001b[43mnn\u001b[49m\u001b[43m,\u001b[49m\u001b[38;5;241;43m1\u001b[39;49m\u001b[43m)\u001b[49m\n\u001b[0;32m      5\u001b[0m     list1\u001b[38;5;241m.\u001b[39mappend(count)\n",
      "Cell \u001b[1;32mIn[15], line 13\u001b[0m, in \u001b[0;36maqtest\u001b[1;34m(a, b)\u001b[0m\n\u001b[0;32m     11\u001b[0m EVdata \u001b[38;5;241m=\u001b[39m G\u001b[38;5;241m.\u001b[39medges(data\u001b[38;5;241m=\u001b[39m\u001b[38;5;124m\"\u001b[39m\u001b[38;5;124mlength\u001b[39m\u001b[38;5;124m\"\u001b[39m)\n\u001b[0;32m     12\u001b[0m max1\u001b[38;5;241m=\u001b[39mclassic(n,EVdata)\n\u001b[1;32m---> 13\u001b[0m max2,counts\u001b[38;5;241m=\u001b[39m\u001b[43mmain\u001b[49m\u001b[43m(\u001b[49m\u001b[43mn\u001b[49m\u001b[43m,\u001b[49m\u001b[43mp\u001b[49m\u001b[43m)\u001b[49m\n\u001b[0;32m     14\u001b[0m \u001b[38;5;28;01mif\u001b[39;00m max1\u001b[38;5;241m==\u001b[39mmax2:\n\u001b[0;32m     15\u001b[0m     count\u001b[38;5;241m=\u001b[39mcount\u001b[38;5;241m+\u001b[39m\u001b[38;5;241m1\u001b[39m\n",
      "Cell \u001b[1;32mIn[11], line 14\u001b[0m, in \u001b[0;36mmain\u001b[1;34m(n, p)\u001b[0m\n\u001b[0;32m     12\u001b[0m x0\u001b[38;5;241m=\u001b[39mnp\u001b[38;5;241m.\u001b[39marray(const_origin(p))\n\u001b[0;32m     13\u001b[0m bnd\u001b[38;5;241m=\u001b[39mbounds(p)\n\u001b[1;32m---> 14\u001b[0m result\u001b[38;5;241m=\u001b[39m\u001b[43mscipy\u001b[49m\u001b[38;5;241;43m.\u001b[39;49m\u001b[43moptimize\u001b[49m\u001b[38;5;241;43m.\u001b[39;49m\u001b[43mminimize\u001b[49m\u001b[43m(\u001b[49m\u001b[43moptifun\u001b[49m\u001b[43m,\u001b[49m\u001b[43mx0\u001b[49m\u001b[43m,\u001b[49m\u001b[43mmethod\u001b[49m\u001b[38;5;241;43m=\u001b[39;49m\u001b[38;5;124;43m'\u001b[39;49m\u001b[38;5;124;43mCOBYLA\u001b[39;49m\u001b[38;5;124;43m'\u001b[39;49m\u001b[43m,\u001b[49m\u001b[43mbounds\u001b[49m\u001b[38;5;241;43m=\u001b[39;49m\u001b[43mbnd\u001b[49m\u001b[43m)\u001b[49m\n\u001b[0;32m     15\u001b[0m \u001b[38;5;66;03m#print(result)\u001b[39;00m\n\u001b[0;32m     16\u001b[0m \u001b[38;5;66;03m#print(result.x)\u001b[39;00m\n\u001b[0;32m     17\u001b[0m pa\u001b[38;5;241m=\u001b[39m\u001b[38;5;28mlist\u001b[39m(result\u001b[38;5;241m.\u001b[39mx)\n",
      "File \u001b[1;32m~\\anaconda3\\envs\\qiskitpytorch\\lib\\site-packages\\scipy\\optimize\\_minimize.py:702\u001b[0m, in \u001b[0;36mminimize\u001b[1;34m(fun, x0, args, method, jac, hess, hessp, bounds, constraints, tol, callback, options)\u001b[0m\n\u001b[0;32m    699\u001b[0m     res \u001b[38;5;241m=\u001b[39m _minimize_tnc(fun, x0, args, jac, bounds, callback\u001b[38;5;241m=\u001b[39mcallback,\n\u001b[0;32m    700\u001b[0m                         \u001b[38;5;241m*\u001b[39m\u001b[38;5;241m*\u001b[39moptions)\n\u001b[0;32m    701\u001b[0m \u001b[38;5;28;01melif\u001b[39;00m meth \u001b[38;5;241m==\u001b[39m \u001b[38;5;124m'\u001b[39m\u001b[38;5;124mcobyla\u001b[39m\u001b[38;5;124m'\u001b[39m:\n\u001b[1;32m--> 702\u001b[0m     res \u001b[38;5;241m=\u001b[39m \u001b[43m_minimize_cobyla\u001b[49m\u001b[43m(\u001b[49m\u001b[43mfun\u001b[49m\u001b[43m,\u001b[49m\u001b[43m \u001b[49m\u001b[43mx0\u001b[49m\u001b[43m,\u001b[49m\u001b[43m \u001b[49m\u001b[43margs\u001b[49m\u001b[43m,\u001b[49m\u001b[43m \u001b[49m\u001b[43mconstraints\u001b[49m\u001b[43m,\u001b[49m\u001b[43m \u001b[49m\u001b[43mcallback\u001b[49m\u001b[38;5;241;43m=\u001b[39;49m\u001b[43mcallback\u001b[49m\u001b[43m,\u001b[49m\n\u001b[0;32m    703\u001b[0m \u001b[43m                            \u001b[49m\u001b[38;5;241;43m*\u001b[39;49m\u001b[38;5;241;43m*\u001b[39;49m\u001b[43moptions\u001b[49m\u001b[43m)\u001b[49m\n\u001b[0;32m    704\u001b[0m \u001b[38;5;28;01melif\u001b[39;00m meth \u001b[38;5;241m==\u001b[39m \u001b[38;5;124m'\u001b[39m\u001b[38;5;124mslsqp\u001b[39m\u001b[38;5;124m'\u001b[39m:\n\u001b[0;32m    705\u001b[0m     res \u001b[38;5;241m=\u001b[39m _minimize_slsqp(fun, x0, args, jac, bounds,\n\u001b[0;32m    706\u001b[0m                           constraints, callback\u001b[38;5;241m=\u001b[39mcallback, \u001b[38;5;241m*\u001b[39m\u001b[38;5;241m*\u001b[39moptions)\n",
      "File \u001b[1;32m~\\anaconda3\\envs\\qiskitpytorch\\lib\\site-packages\\scipy\\optimize\\_cobyla_py.py:34\u001b[0m, in \u001b[0;36msynchronized.<locals>.wrapper\u001b[1;34m(*args, **kwargs)\u001b[0m\n\u001b[0;32m     31\u001b[0m \u001b[38;5;129m@functools\u001b[39m\u001b[38;5;241m.\u001b[39mwraps(func)\n\u001b[0;32m     32\u001b[0m \u001b[38;5;28;01mdef\u001b[39;00m \u001b[38;5;21mwrapper\u001b[39m(\u001b[38;5;241m*\u001b[39margs, \u001b[38;5;241m*\u001b[39m\u001b[38;5;241m*\u001b[39mkwargs):\n\u001b[0;32m     33\u001b[0m     \u001b[38;5;28;01mwith\u001b[39;00m _module_lock:\n\u001b[1;32m---> 34\u001b[0m         \u001b[38;5;28;01mreturn\u001b[39;00m \u001b[43mfunc\u001b[49m\u001b[43m(\u001b[49m\u001b[38;5;241;43m*\u001b[39;49m\u001b[43margs\u001b[49m\u001b[43m,\u001b[49m\u001b[43m \u001b[49m\u001b[38;5;241;43m*\u001b[39;49m\u001b[38;5;241;43m*\u001b[39;49m\u001b[43mkwargs\u001b[49m\u001b[43m)\u001b[49m\n",
      "File \u001b[1;32m~\\anaconda3\\envs\\qiskitpytorch\\lib\\site-packages\\scipy\\optimize\\_cobyla_py.py:270\u001b[0m, in \u001b[0;36m_minimize_cobyla\u001b[1;34m(fun, x0, args, constraints, rhobeg, tol, maxiter, disp, catol, callback, **unknown_options)\u001b[0m\n\u001b[0;32m    267\u001b[0m         callback(np\u001b[38;5;241m.\u001b[39mcopy(x))\n\u001b[0;32m    269\u001b[0m info \u001b[38;5;241m=\u001b[39m np\u001b[38;5;241m.\u001b[39mzeros(\u001b[38;5;241m4\u001b[39m, np\u001b[38;5;241m.\u001b[39mfloat64)\n\u001b[1;32m--> 270\u001b[0m xopt, info \u001b[38;5;241m=\u001b[39m \u001b[43mcobyla\u001b[49m\u001b[38;5;241;43m.\u001b[39;49m\u001b[43mminimize\u001b[49m\u001b[43m(\u001b[49m\u001b[43mcalcfc\u001b[49m\u001b[43m,\u001b[49m\u001b[43m \u001b[49m\u001b[43mm\u001b[49m\u001b[38;5;241;43m=\u001b[39;49m\u001b[43mm\u001b[49m\u001b[43m,\u001b[49m\u001b[43m \u001b[49m\u001b[43mx\u001b[49m\u001b[38;5;241;43m=\u001b[39;49m\u001b[43mnp\u001b[49m\u001b[38;5;241;43m.\u001b[39;49m\u001b[43mcopy\u001b[49m\u001b[43m(\u001b[49m\u001b[43mx0\u001b[49m\u001b[43m)\u001b[49m\u001b[43m,\u001b[49m\u001b[43m \u001b[49m\u001b[43mrhobeg\u001b[49m\u001b[38;5;241;43m=\u001b[39;49m\u001b[43mrhobeg\u001b[49m\u001b[43m,\u001b[49m\n\u001b[0;32m    271\u001b[0m \u001b[43m                              \u001b[49m\u001b[43mrhoend\u001b[49m\u001b[38;5;241;43m=\u001b[39;49m\u001b[43mrhoend\u001b[49m\u001b[43m,\u001b[49m\u001b[43m \u001b[49m\u001b[43miprint\u001b[49m\u001b[38;5;241;43m=\u001b[39;49m\u001b[43miprint\u001b[49m\u001b[43m,\u001b[49m\u001b[43m \u001b[49m\u001b[43mmaxfun\u001b[49m\u001b[38;5;241;43m=\u001b[39;49m\u001b[43mmaxfun\u001b[49m\u001b[43m,\u001b[49m\n\u001b[0;32m    272\u001b[0m \u001b[43m                              \u001b[49m\u001b[43mdinfo\u001b[49m\u001b[38;5;241;43m=\u001b[39;49m\u001b[43minfo\u001b[49m\u001b[43m,\u001b[49m\u001b[43m \u001b[49m\u001b[43mcallback\u001b[49m\u001b[38;5;241;43m=\u001b[39;49m\u001b[43mwrapped_callback\u001b[49m\u001b[43m)\u001b[49m\n\u001b[0;32m    274\u001b[0m \u001b[38;5;28;01mif\u001b[39;00m info[\u001b[38;5;241m3\u001b[39m] \u001b[38;5;241m>\u001b[39m catol:\n\u001b[0;32m    275\u001b[0m     \u001b[38;5;66;03m# Check constraint violation\u001b[39;00m\n\u001b[0;32m    276\u001b[0m     info[\u001b[38;5;241m0\u001b[39m] \u001b[38;5;241m=\u001b[39m \u001b[38;5;241m4\u001b[39m\n",
      "File \u001b[1;32m~\\anaconda3\\envs\\qiskitpytorch\\lib\\site-packages\\scipy\\optimize\\_cobyla_py.py:258\u001b[0m, in \u001b[0;36m_minimize_cobyla.<locals>.calcfc\u001b[1;34m(x, con)\u001b[0m\n\u001b[0;32m    257\u001b[0m \u001b[38;5;28;01mdef\u001b[39;00m \u001b[38;5;21mcalcfc\u001b[39m(x, con):\n\u001b[1;32m--> 258\u001b[0m     f \u001b[38;5;241m=\u001b[39m \u001b[43mfun\u001b[49m\u001b[43m(\u001b[49m\u001b[43mnp\u001b[49m\u001b[38;5;241;43m.\u001b[39;49m\u001b[43mcopy\u001b[49m\u001b[43m(\u001b[49m\u001b[43mx\u001b[49m\u001b[43m)\u001b[49m\u001b[43m,\u001b[49m\u001b[43m \u001b[49m\u001b[38;5;241;43m*\u001b[39;49m\u001b[43margs\u001b[49m\u001b[43m)\u001b[49m\n\u001b[0;32m    259\u001b[0m     i \u001b[38;5;241m=\u001b[39m \u001b[38;5;241m0\u001b[39m\n\u001b[0;32m    260\u001b[0m     \u001b[38;5;28;01mfor\u001b[39;00m size, c \u001b[38;5;129;01min\u001b[39;00m izip(cons_lengths, constraints):\n",
      "Cell \u001b[1;32mIn[9], line 10\u001b[0m, in \u001b[0;36moptifun\u001b[1;34m(x)\u001b[0m\n\u001b[0;32m      8\u001b[0m     gamma\u001b[38;5;241m.\u001b[39mappend(x[j\u001b[38;5;241m+\u001b[39mp])\n\u001b[0;32m      9\u001b[0m cir\u001b[38;5;241m=\u001b[39mQAOA_circuit(n,beta,gamma,p,EVdata)\n\u001b[1;32m---> 10\u001b[0m counts\u001b[38;5;241m=\u001b[39m\u001b[43msimi_result\u001b[49m\u001b[43m(\u001b[49m\u001b[43mcir\u001b[49m\u001b[43m)\u001b[49m\n\u001b[0;32m     11\u001b[0m exp\u001b[38;5;241m=\u001b[39mexpectations(EVdata,counts)\n\u001b[0;32m     12\u001b[0m \u001b[38;5;28;01mreturn\u001b[39;00m \u001b[38;5;241m-\u001b[39mexp\n",
      "Cell \u001b[1;32mIn[5], line 5\u001b[0m, in \u001b[0;36msimi_result\u001b[1;34m(circuit)\u001b[0m\n\u001b[0;32m      3\u001b[0m compiled_circuit \u001b[38;5;241m=\u001b[39m transpile(circuit, simulator)\n\u001b[0;32m      4\u001b[0m job \u001b[38;5;241m=\u001b[39m simulator\u001b[38;5;241m.\u001b[39mrun(compiled_circuit, shots\u001b[38;5;241m=\u001b[39m\u001b[38;5;241m500\u001b[39m)\n\u001b[1;32m----> 5\u001b[0m result \u001b[38;5;241m=\u001b[39m \u001b[43mjob\u001b[49m\u001b[38;5;241;43m.\u001b[39;49m\u001b[43mresult\u001b[49m\u001b[43m(\u001b[49m\u001b[43m)\u001b[49m\n\u001b[0;32m      6\u001b[0m counts \u001b[38;5;241m=\u001b[39m result\u001b[38;5;241m.\u001b[39mget_counts(compiled_circuit)\n\u001b[0;32m      7\u001b[0m \u001b[38;5;28;01mreturn\u001b[39;00m counts\n",
      "File \u001b[1;32m~\\anaconda3\\envs\\qiskitpytorch\\lib\\site-packages\\qiskit_aer\\jobs\\utils.py:41\u001b[0m, in \u001b[0;36mrequires_submit.<locals>._wrapper\u001b[1;34m(self, *args, **kwargs)\u001b[0m\n\u001b[0;32m     39\u001b[0m \u001b[38;5;28;01mif\u001b[39;00m \u001b[38;5;28mself\u001b[39m\u001b[38;5;241m.\u001b[39m_future \u001b[38;5;129;01mis\u001b[39;00m \u001b[38;5;28;01mNone\u001b[39;00m:\n\u001b[0;32m     40\u001b[0m     \u001b[38;5;28;01mraise\u001b[39;00m JobError(\u001b[38;5;124m\"\u001b[39m\u001b[38;5;124mJob not submitted yet!. You have to .submit() first!\u001b[39m\u001b[38;5;124m\"\u001b[39m)\n\u001b[1;32m---> 41\u001b[0m \u001b[38;5;28;01mreturn\u001b[39;00m \u001b[43mfunc\u001b[49m\u001b[43m(\u001b[49m\u001b[38;5;28;43mself\u001b[39;49m\u001b[43m,\u001b[49m\u001b[43m \u001b[49m\u001b[38;5;241;43m*\u001b[39;49m\u001b[43margs\u001b[49m\u001b[43m,\u001b[49m\u001b[43m \u001b[49m\u001b[38;5;241;43m*\u001b[39;49m\u001b[38;5;241;43m*\u001b[39;49m\u001b[43mkwargs\u001b[49m\u001b[43m)\u001b[49m\n",
      "File \u001b[1;32m~\\anaconda3\\envs\\qiskitpytorch\\lib\\site-packages\\qiskit_aer\\jobs\\aerjob.py:106\u001b[0m, in \u001b[0;36mAerJob.result\u001b[1;34m(self, timeout)\u001b[0m\n\u001b[0;32m     88\u001b[0m \u001b[38;5;129m@requires_submit\u001b[39m\n\u001b[0;32m     89\u001b[0m \u001b[38;5;28;01mdef\u001b[39;00m \u001b[38;5;21mresult\u001b[39m(\u001b[38;5;28mself\u001b[39m, timeout\u001b[38;5;241m=\u001b[39m\u001b[38;5;28;01mNone\u001b[39;00m):\n\u001b[0;32m     90\u001b[0m     \u001b[38;5;66;03m# pylint: disable=arguments-differ\u001b[39;00m\n\u001b[0;32m     91\u001b[0m     \u001b[38;5;124;03m\"\"\"Get job result. The behavior is the same as the underlying\u001b[39;00m\n\u001b[0;32m     92\u001b[0m \u001b[38;5;124;03m    concurrent Future objects,\u001b[39;00m\n\u001b[0;32m     93\u001b[0m \n\u001b[1;32m   (...)\u001b[0m\n\u001b[0;32m    104\u001b[0m \u001b[38;5;124;03m        concurrent.futures.CancelledError: if job cancelled before completed.\u001b[39;00m\n\u001b[0;32m    105\u001b[0m \u001b[38;5;124;03m    \"\"\"\u001b[39;00m\n\u001b[1;32m--> 106\u001b[0m     \u001b[38;5;28;01mreturn\u001b[39;00m \u001b[38;5;28;43mself\u001b[39;49m\u001b[38;5;241;43m.\u001b[39;49m\u001b[43m_future\u001b[49m\u001b[38;5;241;43m.\u001b[39;49m\u001b[43mresult\u001b[49m\u001b[43m(\u001b[49m\u001b[43mtimeout\u001b[49m\u001b[38;5;241;43m=\u001b[39;49m\u001b[43mtimeout\u001b[49m\u001b[43m)\u001b[49m\n",
      "File \u001b[1;32m~\\anaconda3\\envs\\qiskitpytorch\\lib\\concurrent\\futures\\_base.py:439\u001b[0m, in \u001b[0;36mFuture.result\u001b[1;34m(self, timeout)\u001b[0m\n\u001b[0;32m    436\u001b[0m \u001b[38;5;28;01melif\u001b[39;00m \u001b[38;5;28mself\u001b[39m\u001b[38;5;241m.\u001b[39m_state \u001b[38;5;241m==\u001b[39m FINISHED:\n\u001b[0;32m    437\u001b[0m     \u001b[38;5;28;01mreturn\u001b[39;00m \u001b[38;5;28mself\u001b[39m\u001b[38;5;241m.\u001b[39m__get_result()\n\u001b[1;32m--> 439\u001b[0m \u001b[38;5;28;43mself\u001b[39;49m\u001b[38;5;241;43m.\u001b[39;49m\u001b[43m_condition\u001b[49m\u001b[38;5;241;43m.\u001b[39;49m\u001b[43mwait\u001b[49m\u001b[43m(\u001b[49m\u001b[43mtimeout\u001b[49m\u001b[43m)\u001b[49m\n\u001b[0;32m    441\u001b[0m \u001b[38;5;28;01mif\u001b[39;00m \u001b[38;5;28mself\u001b[39m\u001b[38;5;241m.\u001b[39m_state \u001b[38;5;129;01min\u001b[39;00m [CANCELLED, CANCELLED_AND_NOTIFIED]:\n\u001b[0;32m    442\u001b[0m     \u001b[38;5;28;01mraise\u001b[39;00m CancelledError()\n",
      "File \u001b[1;32m~\\anaconda3\\envs\\qiskitpytorch\\lib\\threading.py:302\u001b[0m, in \u001b[0;36mCondition.wait\u001b[1;34m(self, timeout)\u001b[0m\n\u001b[0;32m    300\u001b[0m \u001b[38;5;28;01mtry\u001b[39;00m:    \u001b[38;5;66;03m# restore state no matter what (e.g., KeyboardInterrupt)\u001b[39;00m\n\u001b[0;32m    301\u001b[0m     \u001b[38;5;28;01mif\u001b[39;00m timeout \u001b[38;5;129;01mis\u001b[39;00m \u001b[38;5;28;01mNone\u001b[39;00m:\n\u001b[1;32m--> 302\u001b[0m         \u001b[43mwaiter\u001b[49m\u001b[38;5;241;43m.\u001b[39;49m\u001b[43macquire\u001b[49m\u001b[43m(\u001b[49m\u001b[43m)\u001b[49m\n\u001b[0;32m    303\u001b[0m         gotit \u001b[38;5;241m=\u001b[39m \u001b[38;5;28;01mTrue\u001b[39;00m\n\u001b[0;32m    304\u001b[0m     \u001b[38;5;28;01melse\u001b[39;00m:\n",
      "\u001b[1;31mKeyboardInterrupt\u001b[0m: "
     ]
    }
   ],
   "source": [
    "list1=[]\n",
    "for nn in range(3,10):\n",
    "    print(nn)\n",
    "    count=aqtest(nn,1)\n",
    "    list1.append(count)"
   ]
  },
  {
   "cell_type": "code",
   "execution_count": null,
   "id": "ef52f35a",
   "metadata": {},
   "outputs": [],
   "source": [
    "aqtest(4,2)"
   ]
  },
  {
   "cell_type": "code",
   "execution_count": 17,
   "id": "d62358d9",
   "metadata": {},
   "outputs": [
    {
     "name": "stdout",
     "output_type": "stream",
     "text": [
      "1\n",
      "FINAL ACCURACY 49\n",
      "2\n",
      "FINAL ACCURACY 49\n",
      "3\n",
      "FINAL ACCURACY 56\n",
      "4\n",
      "FINAL ACCURACY 50\n",
      "5\n",
      "FINAL ACCURACY 63\n"
     ]
    }
   ],
   "source": [
    "list1=[]\n",
    "for nn in range(1,6):\n",
    "    print(nn)\n",
    "    count=aqtest(4,nn)\n",
    "    list1.append(count)"
   ]
  },
  {
   "cell_type": "code",
   "execution_count": null,
   "id": "d509b504",
   "metadata": {},
   "outputs": [],
   "source": []
  }
 ],
 "metadata": {
  "kernelspec": {
   "display_name": "Python 3 (ipykernel)",
   "language": "python",
   "name": "python3"
  },
  "language_info": {
   "codemirror_mode": {
    "name": "ipython",
    "version": 3
   },
   "file_extension": ".py",
   "mimetype": "text/x-python",
   "name": "python",
   "nbconvert_exporter": "python",
   "pygments_lexer": "ipython3",
   "version": "3.8.16"
  },
  "toc": {
   "base_numbering": 1,
   "nav_menu": {},
   "number_sections": true,
   "sideBar": true,
   "skip_h1_title": false,
   "title_cell": "Table of Contents",
   "title_sidebar": "Contents",
   "toc_cell": false,
   "toc_position": {},
   "toc_section_display": true,
   "toc_window_display": false
  }
 },
 "nbformat": 4,
 "nbformat_minor": 5
}
